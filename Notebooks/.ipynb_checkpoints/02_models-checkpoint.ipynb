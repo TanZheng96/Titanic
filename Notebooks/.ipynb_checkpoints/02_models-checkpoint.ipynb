{
 "cells": [
  {
   "cell_type": "markdown",
   "metadata": {},
   "source": [
    "# Titanic Kaggle Competition\n",
    "### Name: Tan Zheng"
   ]
  },
  {
   "cell_type": "code",
   "execution_count": 1,
   "metadata": {},
   "outputs": [],
   "source": [
    "import pandas as pd\n",
    "import numpy as np\n",
    "from sklearn.model_selection import train_test_split\n",
    "from sklearn import neighbors\n",
    "\n",
    "from sklearn import model_selection, metrics, ensemble, preprocessing, impute, linear_model, pipeline, compose, naive_bayes, tree, svm\n",
    "import seaborn as sns\n",
    "import matplotlib.pyplot as plt"
   ]
  },
  {
   "cell_type": "markdown",
   "metadata": {},
   "source": [
    "### Preprocessing"
   ]
  },
  {
   "cell_type": "code",
   "execution_count": 2,
   "metadata": {},
   "outputs": [],
   "source": [
    "df = pd.read_csv(r\"D:\\Homework\\SoftwareMethod\\Titanic\\Data\\titanic.csv\")\n",
    "X = df.drop(['Name','Survived'], axis = 1)\n",
    "y = df.Survived"
   ]
  },
  {
   "cell_type": "markdown",
   "metadata": {},
   "source": [
    "Convert binary column $Sex$ into 0 and 1s."
   ]
  },
  {
   "cell_type": "code",
   "execution_count": 3,
   "metadata": {},
   "outputs": [],
   "source": [
    "X['Sex'].replace({\n",
    "    'male': 0,\n",
    "    'female': 1\n",
    "}, inplace=True)"
   ]
  },
  {
   "cell_type": "markdown",
   "metadata": {},
   "source": [
    "### Train Test Split"
   ]
  },
  {
   "cell_type": "markdown",
   "metadata": {},
   "source": [
    "Train Test Split size $70%$/$30%$"
   ]
  },
  {
   "cell_type": "code",
   "execution_count": 4,
   "metadata": {},
   "outputs": [],
   "source": [
    "X_train, X_test, y_train, y_test = train_test_split(X, y, test_size = .3, random_state = 0)"
   ]
  },
  {
   "cell_type": "markdown",
   "metadata": {},
   "source": [
    "### Logistic Regression"
   ]
  },
  {
   "cell_type": "code",
   "execution_count": 5,
   "metadata": {},
   "outputs": [],
   "source": [
    "lg_model = pipeline.Pipeline(steps=[\n",
    "    ('normalise', preprocessing.Normalizer()),\n",
    "    ('scale', preprocessing.MinMaxScaler()),\n",
    "    ('model', linear_model.LogisticRegression(C=1, solver='newton-cg', penalty='l2'))\n",
    "])"
   ]
  },
  {
   "cell_type": "code",
   "execution_count": 6,
   "metadata": {},
   "outputs": [],
   "source": [
    "lg_acc = model_selection.cross_val_score(lg_model, X_train, y_train, cv = model_selection.StratifiedKFold(n_splits= 10, shuffle = True), scoring='accuracy', n_jobs=-1)"
   ]
  },
  {
   "cell_type": "markdown",
   "metadata": {},
   "source": [
    "Applying 10-fold stratified cross validation to get the accuracy."
   ]
  },
  {
   "cell_type": "markdown",
   "metadata": {},
   "source": [
    "### Naive Bayes"
   ]
  },
  {
   "cell_type": "code",
   "execution_count": 7,
   "metadata": {},
   "outputs": [],
   "source": [
    "gb_model = pipeline.Pipeline(steps=[\n",
    "    ('normalize', preprocessing.Normalizer()),\n",
    "    ('scale', preprocessing.MinMaxScaler()),\n",
    "    ('model', naive_bayes.GaussianNB()),\n",
    "])"
   ]
  },
  {
   "cell_type": "code",
   "execution_count": 8,
   "metadata": {},
   "outputs": [],
   "source": [
    "gb_acc = model_selection.cross_val_score(gb_model, X_train, y_train, cv = model_selection.StratifiedKFold(n_splits= 10, shuffle = True), scoring='accuracy', n_jobs=-1)"
   ]
  },
  {
   "cell_type": "markdown",
   "metadata": {},
   "source": [
    "### K Nearst Neighbor"
   ]
  },
  {
   "cell_type": "code",
   "execution_count": 9,
   "metadata": {},
   "outputs": [],
   "source": [
    "knn_model = pipeline.Pipeline(steps=[\n",
    "    ('normalize', preprocessing.Normalizer()),\n",
    "    ('scale', preprocessing.MinMaxScaler()),\n",
    "    ('model', neighbors.KNeighborsClassifier()),\n",
    "])"
   ]
  },
  {
   "cell_type": "code",
   "execution_count": 10,
   "metadata": {},
   "outputs": [],
   "source": [
    "knn_acc = model_selection.cross_val_score(knn_model, X_train, y_train, cv = model_selection.StratifiedKFold(n_splits= 10, shuffle = True), scoring='accuracy', n_jobs=-1)"
   ]
  },
  {
   "cell_type": "markdown",
   "metadata": {},
   "source": [
    "### Picking The Best Model"
   ]
  },
  {
   "cell_type": "code",
   "execution_count": 11,
   "metadata": {},
   "outputs": [
    {
     "data": {
      "image/png": "[encoded data removed]",
      "text/plain": [
       "<Figure size 720x360 with 1 Axes>"
      ]
     },
     "metadata": {
      "needs_background": "light"
     },
     "output_type": "display_data"
    }
   ],
   "source": [
    "accuracy = pd.DataFrame({\n",
    "    'Logistic Regression': lg_acc,\n",
    "    'Naive Bayes': gb_acc,\n",
    "    'K Nearst Neighbor': knn_acc\n",
    "})\n",
    "plt.figure(figsize=(10, 5))\n",
    "sns.barplot(data = accuracy)\n",
    "plt.show()"
   ]
  },
  {
   "cell_type": "code",
   "execution_count": 12,
   "metadata": {},
   "outputs": [
    {
     "data": {
      "text/plain": [
       "K Nearst Neighbor      0.779032\n",
       "Logistic Regression    0.775806\n",
       "Naive Bayes            0.751613\n",
       "dtype: float64"
      ]
     },
     "execution_count": 12,
     "metadata": {},
     "output_type": "execute_result"
    }
   ],
   "source": [
    "accuracy.mean().sort_values(ascending=False)"
   ]
  },
  {
   "cell_type": "markdown",
   "metadata": {},
   "source": [
    "### Test Set Predictions and Accuracy"
   ]
  },
  {
   "cell_type": "code",
   "execution_count": 13,
   "metadata": {},
   "outputs": [],
   "source": [
    "def assess(pred, y_test):\n",
    "    acc = ((pred == y_test).sum())/len(y_test)\n",
    "    return acc\n",
    "\n",
    "lg_model.fit(X_train,y_train)\n",
    "gb_model.fit(X_train,y_train)\n",
    "knn_model.fit(X_train,y_train)\n",
    "\n",
    "lg_pred = lg_model.predict(X_test)\n",
    "gb_pred = gb_model.predict(X_test)\n",
    "knn_pred = knn_model.predict(X_test)\n",
    "\n",
    "lg_acc = assess(lg_pred, y_test)\n",
    "gb_acc = assess(gb_pred, y_test)\n",
    "knn_acc = assess(knn_pred, y_test)"
   ]
  },
  {
   "cell_type": "code",
   "execution_count": 15,
   "metadata": {},
   "outputs": [
    {
     "data": {
      "image/png": "[encoded data removed]",
      "text/plain": [
       "<Figure size 720x360 with 1 Axes>"
      ]
     },
     "metadata": {
      "needs_background": "light"
     },
     "output_type": "display_data"
    }
   ],
   "source": [
    "accuracy = pd.DataFrame({\n",
    "    'Logistic Regression': [lg_acc],\n",
    "    'Naive Bayes': [gb_acc],\n",
    "    'K Nearst Neighbor': [knn_acc]\n",
    "})\n",
    "plt.figure(figsize=(10, 5))\n",
    "sns.barplot(data = accuracy)\n",
    "plt.show()"
   ]
  },
  {
   "cell_type": "code",
   "execution_count": 16,
   "metadata": {},
   "outputs": [
    {
     "data": {
      "text/plain": [
       "K Nearst Neighbor      0.786517\n",
       "Logistic Regression    0.771536\n",
       "Naive Bayes            0.711610\n",
       "dtype: float64"
      ]
     },
     "execution_count": 16,
     "metadata": {},
     "output_type": "execute_result"
    }
   ],
   "source": [
    "accuracy.mean().sort_values(ascending=False)"
   ]
  }
 ],
 "metadata": {
  "kernelspec": {
   "display_name": "Python 3",
   "language": "python",
   "name": "python3"
  },
  "language_info": {
   "codemirror_mode": {
    "name": "ipython",
    "version": 3
   },
   "file_extension": ".py",
   "mimetype": "text/x-python",
   "name": "python",
   "nbconvert_exporter": "python",
   "pygments_lexer": "ipython3",
   "version": "3.8.5"
  }
 },
 "nbformat": 4,
 "nbformat_minor": 4
}
